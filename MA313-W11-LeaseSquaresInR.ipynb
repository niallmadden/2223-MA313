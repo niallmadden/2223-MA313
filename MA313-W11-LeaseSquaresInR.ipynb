{
 "cells": [
  {
   "cell_type": "markdown",
   "id": "740d15da",
   "metadata": {
    "toc": true
   },
   "source": [
    "<h1>Table of Contents<span class=\"tocSkip\"></span></h1>\n",
    "<div class=\"toc\"><ul class=\"toc-item\"></ul></div>"
   ]
  },
  {
   "cell_type": "markdown",
   "id": "ad6341f8",
   "metadata": {
    "slideshow": {
     "slide_type": "slide"
    }
   },
   "source": [
    "# Least Squares in R\n",
    "\n",
    "# Least Squares in R"
   ]
  },
  {
   "cell_type": "markdown",
   "id": "c7f89fd7",
   "metadata": {},
   "source": [
    "# MA313: Week 11 - Least Squars in R <span style='color:green'>(V1.0)</span>\n",
    "\n",
    "\n",
    "** Example of using R for solving a least squares problem. Week 11 of MA313, 18 November, 2022.**\n",
    "\n",
    "Dr [Niall Madden](mailto:Niall.Madden@UniversityOfGalway.ie), School of Mathematical and Statistical Sciences, \n",
    "University of Galway.\n",
    "            \n",
    "You can find these slides as a Jupyter notebook Blackboard (including the xlsx file).\n",
    "* as HTML at: [https://www.niallmadden.ie/2223-CS103](https://www.niallmadden.ie/2223-CS103)\n",
    "* Jupyter notebook on Binder [https://mybinder.org/v2/gh/niallmadden/2223-cs103/main](https://mybinder.org/v2/gh/niallmadden/2223-cs103/main) [![Binder](https://mybinder.org/badge_logo.svg)](https://mybinder.org/v2/gh/niallmadden/2223-cs103/main)\n",
    "\n",
    "* Both formats on Github: [https://github.com/niallmadden/2223-cs103](https://github.com/niallmadden/2223-cs103)\n",
    "\n",
    "\n",
    "***\n",
    "\n",
    "<div class=\"pink\"><font size=\"+1\"><em>This notebook was written by Niall Madden, and uses some material from Chapter 11 of <a href=\"https://greenteapress.com/thinkpython2/html\">Think Python</a>.</em></div>"
   ]
  },
  {
   "cell_type": "code",
   "execution_count": 21,
   "id": "3c583511",
   "metadata": {},
   "outputs": [
    {
     "data": {
      "text/html": [
       "<table>\n",
       "<thead><tr><th scope=col>X</th><th scope=col>Y</th></tr></thead>\n",
       "<tbody>\n",
       "\t<tr><td> 1</td><td> 2</td></tr>\n",
       "\t<tr><td> 2</td><td> 2</td></tr>\n",
       "\t<tr><td> 3</td><td> 4</td></tr>\n",
       "\t<tr><td>-1</td><td>-1</td></tr>\n",
       "\t<tr><td>-2</td><td>-1</td></tr>\n",
       "\t<tr><td> 0</td><td> 1</td></tr>\n",
       "\t<tr><td> 4</td><td> 3</td></tr>\n",
       "</tbody>\n",
       "</table>\n"
      ],
      "text/latex": [
       "\\begin{tabular}{r|ll}\n",
       " X & Y\\\\\n",
       "\\hline\n",
       "\t  1 &  2\\\\\n",
       "\t  2 &  2\\\\\n",
       "\t  3 &  4\\\\\n",
       "\t -1 & -1\\\\\n",
       "\t -2 & -1\\\\\n",
       "\t  0 &  1\\\\\n",
       "\t  4 &  3\\\\\n",
       "\\end{tabular}\n"
      ],
      "text/markdown": [
       "\n",
       "| X | Y |\n",
       "|---|---|\n",
       "|  1 |  2 |\n",
       "|  2 |  2 |\n",
       "|  3 |  4 |\n",
       "| -1 | -1 |\n",
       "| -2 | -1 |\n",
       "|  0 |  1 |\n",
       "|  4 |  3 |\n",
       "\n"
      ],
      "text/plain": [
       "  X  Y \n",
       "1  1  2\n",
       "2  2  2\n",
       "3  3  4\n",
       "4 -1 -1\n",
       "5 -2 -1\n",
       "6  0  1\n",
       "7  4  3"
      ]
     },
     "metadata": {},
     "output_type": "display_data"
    }
   ],
   "source": [
    "my_data"
   ]
  },
  {
   "cell_type": "code",
   "execution_count": 22,
   "id": "687cd1ab",
   "metadata": {
    "slideshow": {
     "slide_type": "slide"
    }
   },
   "outputs": [
    {
     "data": {
      "image/png": "[encoded data removed]",
      "text/plain": [
       "plot without title"
      ]
     },
     "metadata": {},
     "output_type": "display_data"
    }
   ],
   "source": [
    "plot(my_data)"
   ]
  },
  {
   "cell_type": "code",
   "execution_count": 23,
   "id": "e2af569d",
   "metadata": {
    "slideshow": {
     "slide_type": "slide"
    }
   },
   "outputs": [],
   "source": [
    "A =model.matrix(Y~X, data=my_data)"
   ]
  },
  {
   "cell_type": "code",
   "execution_count": 24,
   "id": "885b109f",
   "metadata": {},
   "outputs": [],
   "source": [
    "b=my_data$Y"
   ]
  },
  {
   "cell_type": "code",
   "execution_count": 25,
   "id": "90c31909",
   "metadata": {},
   "outputs": [
    {
     "data": {
      "text/html": [
       "<table>\n",
       "<thead><tr><th></th><th scope=col>1</th><th scope=col>2</th><th scope=col>3</th><th scope=col>4</th><th scope=col>5</th><th scope=col>6</th><th scope=col>7</th></tr></thead>\n",
       "<tbody>\n",
       "\t<tr><th scope=row>(Intercept)</th><td>1 </td><td>1 </td><td>1 </td><td> 1</td><td> 1</td><td>1 </td><td>1 </td></tr>\n",
       "\t<tr><th scope=row>X</th><td>1 </td><td>2 </td><td>3 </td><td>-1</td><td>-2</td><td>0 </td><td>4 </td></tr>\n",
       "</tbody>\n",
       "</table>\n"
      ],
      "text/latex": [
       "\\begin{tabular}{r|lllllll}\n",
       "  & 1 & 2 & 3 & 4 & 5 & 6 & 7\\\\\n",
       "\\hline\n",
       "\t(Intercept) & 1  & 1  & 1  &  1 &  1 & 1  & 1 \\\\\n",
       "\tX & 1  & 2  & 3  & -1 & -2 & 0  & 4 \\\\\n",
       "\\end{tabular}\n"
      ],
      "text/markdown": [
       "\n",
       "| <!--/--> | 1 | 2 | 3 | 4 | 5 | 6 | 7 |\n",
       "|---|---|---|---|---|---|---|---|\n",
       "| (Intercept) | 1  | 1  | 1  |  1 |  1 | 1  | 1  |\n",
       "| X | 1  | 2  | 3  | -1 | -2 | 0  | 4  |\n",
       "\n"
      ],
      "text/plain": [
       "            1 2 3 4  5  6 7\n",
       "(Intercept) 1 1 1  1  1 1 1\n",
       "X           1 2 3 -1 -2 0 4"
      ]
     },
     "metadata": {},
     "output_type": "display_data"
    }
   ],
   "source": [
    "t(A)"
   ]
  },
  {
   "cell_type": "code",
   "execution_count": 26,
   "id": "a222949b",
   "metadata": {},
   "outputs": [
    {
     "data": {
      "text/html": [
       "<table>\n",
       "<tbody>\n",
       "\t<tr><th scope=row>(Intercept)</th><td>0.6071429</td></tr>\n",
       "\t<tr><th scope=row>X</th><td>0.8214286</td></tr>\n",
       "</tbody>\n",
       "</table>\n"
      ],
      "text/latex": [
       "\\begin{tabular}{r|l}\n",
       "\t(Intercept) & 0.6071429\\\\\n",
       "\tX & 0.8214286\\\\\n",
       "\\end{tabular}\n"
      ],
      "text/markdown": [
       "\n",
       "| (Intercept) | 0.6071429 |\n",
       "| X | 0.8214286 |\n",
       "\n"
      ],
      "text/plain": [
       "            [,1]     \n",
       "(Intercept) 0.6071429\n",
       "X           0.8214286"
      ]
     },
     "metadata": {},
     "output_type": "display_data"
    }
   ],
   "source": [
    "(beta=solve(t(A) %*% A ,t(A)%*%b))"
   ]
  },
  {
   "cell_type": "code",
   "execution_count": 27,
   "id": "7ecbc082",
   "metadata": {
    "slideshow": {
     "slide_type": "slide"
    }
   },
   "outputs": [
    {
     "data": {
      "image/png": "[encoded data removed]",
      "text/plain": [
       "plot without title"
      ]
     },
     "metadata": {},
     "output_type": "display_data"
    }
   ],
   "source": [
    "plot(my_data)\n",
    "abline(beta[1],beta[2],col='blue')"
   ]
  },
  {
   "cell_type": "code",
   "execution_count": null,
   "id": "4ae66407",
   "metadata": {},
   "outputs": [],
   "source": []
  }
 ],
 "metadata": {
  "celltoolbar": "Slideshow",
  "kernelspec": {
   "display_name": "R",
   "language": "R",
   "name": "ir"
  },
  "language_info": {
   "codemirror_mode": "r",
   "file_extension": ".r",
   "mimetype": "text/x-r-source",
   "name": "R",
   "pygments_lexer": "r",
   "version": "3.6.1"
  },
  "toc": {
   "base_numbering": 1,
   "nav_menu": {},
   "number_sections": true,
   "sideBar": true,
   "skip_h1_title": true,
   "title_cell": "Table of Contents",
   "title_sidebar": "Contents",
   "toc_cell": true,
   "toc_position": {},
   "toc_section_display": true,
   "toc_window_display": false
  },
  "varInspector": {
   "cols": {
    "lenName": 16,
    "lenType": 16,
    "lenVar": 40
   },
   "kernels_config": {
    "python": {
     "delete_cmd_postfix": "",
     "delete_cmd_prefix": "del ",
     "library": "var_list.py",
     "varRefreshCmd": "print(var_dic_list())"
    },
    "r": {
     "delete_cmd_postfix": ") ",
     "delete_cmd_prefix": "rm(",
     "library": "var_list.r",
     "varRefreshCmd": "cat(var_dic_list()) "
    }
   },
   "types_to_exclude": [
    "module",
    "function",
    "builtin_function_or_method",
    "instance",
    "_Feature"
   ],
   "window_display": false
  }
 },
 "nbformat": 4,
 "nbformat_minor": 5
}
