{
 "cells": [
  {
   "cell_type": "markdown",
   "id": "e85dfb7a",
   "metadata": {
    "slideshow": {
     "slide_type": "slide"
    }
   },
   "source": [
    "# MA313: Week 11 - Least Squars in R <span style='color:green'>(V1.0)</span>\n",
    "\n",
    "\n",
    "**Example of using R for solving a least squares problem. Week 11 of MA313, 18 November, 2022.**\n",
    "\n",
    "Dr [Niall Madden](mailto:Niall.Madden@UniversityOfGalway.ie), School of Mathematical and Statistical Sciences, \n",
    "University of Galway.\n",
    "            \n",
    "You can find these slides as a Jupyter notebook on\n",
    "* Blackboard (as an .ipynb file)\n",
    "* Binder [https://mybinder.org/v2/gh/niallmadden/2223-MA313/main](https://mybinder.org/v2/gh/niallmadden/2223-MA313/main) [![Binder](https://mybinder.org/badge_logo.svg)](https://mybinder.org/v2/gh/niallmadden/2223-MA313/main)\n",
    "\n",
    "\n",
    "***\n",
    "\n",
    "<em>This notebook was written by Niall Madden, and uses some material from \n",
    "[Linear Algebra for Data Science with examples in R](https://shainarace.github.io/LinearAlgebra/) by Shaina Race Bennett</em>"
   ]
  },
  {
   "cell_type": "markdown",
   "id": "e6e436e7",
   "metadata": {
    "slideshow": {
     "slide_type": "slide"
    }
   },
   "source": [
    "We will try to fit a line to the data points\n",
    "$$(-2,-1), ~ (-1,-1), ~ (0,1), ~ (1,2),  ~ (2,2), ~ (3,4), ~ (4,3)$$\n",
    "\n",
    "We'll represent this data in a data-frame, with columns labeled $Y$ and $Y$.values."
   ]
  },
  {
   "cell_type": "code",
   "execution_count": 25,
   "id": "3c583511",
   "metadata": {
    "slideshow": {
     "slide_type": "-"
    }
   },
   "outputs": [],
   "source": [
    "my_data <- data.frame(\n",
    "    X = c(-2, -1, 0,  1,  2, 3,  4),\n",
    "    Y = c(-1,  0, 1,  2,  2, 4,  3)\n",
    "    )"
   ]
  },
  {
   "cell_type": "code",
   "execution_count": 26,
   "id": "e201cc9d",
   "metadata": {},
   "outputs": [
    {
     "data": {
      "text/html": [
       "<table>\n",
       "<thead><tr><th scope=col>X</th><th scope=col>Y</th></tr></thead>\n",
       "<tbody>\n",
       "\t<tr><td>-2</td><td>-1</td></tr>\n",
       "\t<tr><td>-1</td><td> 0</td></tr>\n",
       "\t<tr><td> 0</td><td> 1</td></tr>\n",
       "\t<tr><td> 1</td><td> 2</td></tr>\n",
       "\t<tr><td> 2</td><td> 2</td></tr>\n",
       "\t<tr><td> 3</td><td> 4</td></tr>\n",
       "\t<tr><td> 4</td><td> 3</td></tr>\n",
       "</tbody>\n",
       "</table>\n"
      ],
      "text/latex": [
       "\\begin{tabular}{r|ll}\n",
       " X & Y\\\\\n",
       "\\hline\n",
       "\t -2 & -1\\\\\n",
       "\t -1 &  0\\\\\n",
       "\t  0 &  1\\\\\n",
       "\t  1 &  2\\\\\n",
       "\t  2 &  2\\\\\n",
       "\t  3 &  4\\\\\n",
       "\t  4 &  3\\\\\n",
       "\\end{tabular}\n"
      ],
      "text/markdown": [
       "\n",
       "| X | Y |\n",
       "|---|---|\n",
       "| -2 | -1 |\n",
       "| -1 |  0 |\n",
       "|  0 |  1 |\n",
       "|  1 |  2 |\n",
       "|  2 |  2 |\n",
       "|  3 |  4 |\n",
       "|  4 |  3 |\n",
       "\n"
      ],
      "text/plain": [
       "  X  Y \n",
       "1 -2 -1\n",
       "2 -1  0\n",
       "3  0  1\n",
       "4  1  2\n",
       "5  2  2\n",
       "6  3  4\n",
       "7  4  3"
      ]
     },
     "metadata": {},
     "output_type": "display_data"
    }
   ],
   "source": [
    "my_data"
   ]
  },
  {
   "cell_type": "code",
   "execution_count": 27,
   "id": "687cd1ab",
   "metadata": {
    "slideshow": {
     "slide_type": "slide"
    }
   },
   "outputs": [
    {
     "data": {
      "image/png": "[encoded data removed]",
      "text/plain": [
       "plot without title"
      ]
     },
     "metadata": {},
     "output_type": "display_data"
    }
   ],
   "source": [
    "plot(my_data, cex=5)"
   ]
  },
  {
   "cell_type": "markdown",
   "id": "2b0821f5",
   "metadata": {},
   "source": [
    "We want to represent the problem as a matrix-vector equation. The R function `model.matrix()` will do this for us."
   ]
  },
  {
   "cell_type": "code",
   "execution_count": 29,
   "id": "e2af569d",
   "metadata": {
    "slideshow": {
     "slide_type": "slide"
    }
   },
   "outputs": [
    {
     "data": {
      "text/html": [
       "<table>\n",
       "<thead><tr><th scope=col>(Intercept)</th><th scope=col>X</th></tr></thead>\n",
       "<tbody>\n",
       "\t<tr><td>1 </td><td>-2</td></tr>\n",
       "\t<tr><td>1 </td><td>-1</td></tr>\n",
       "\t<tr><td>1 </td><td> 0</td></tr>\n",
       "\t<tr><td>1 </td><td> 1</td></tr>\n",
       "\t<tr><td>1 </td><td> 2</td></tr>\n",
       "\t<tr><td>1 </td><td> 3</td></tr>\n",
       "\t<tr><td>1 </td><td> 4</td></tr>\n",
       "</tbody>\n",
       "</table>\n"
      ],
      "text/latex": [
       "\\begin{tabular}{r|ll}\n",
       " (Intercept) & X\\\\\n",
       "\\hline\n",
       "\t 1  & -2\\\\\n",
       "\t 1  & -1\\\\\n",
       "\t 1  &  0\\\\\n",
       "\t 1  &  1\\\\\n",
       "\t 1  &  2\\\\\n",
       "\t 1  &  3\\\\\n",
       "\t 1  &  4\\\\\n",
       "\\end{tabular}\n"
      ],
      "text/markdown": [
       "\n",
       "| (Intercept) | X |\n",
       "|---|---|\n",
       "| 1  | -2 |\n",
       "| 1  | -1 |\n",
       "| 1  |  0 |\n",
       "| 1  |  1 |\n",
       "| 1  |  2 |\n",
       "| 1  |  3 |\n",
       "| 1  |  4 |\n",
       "\n"
      ],
      "text/plain": [
       "  (Intercept) X \n",
       "1 1           -2\n",
       "2 1           -1\n",
       "3 1            0\n",
       "4 1            1\n",
       "5 1            2\n",
       "6 1            3\n",
       "7 1            4"
      ]
     },
     "metadata": {},
     "output_type": "display_data"
    }
   ],
   "source": [
    "A = model.matrix(Y~X, data=my_data)\n",
    "A"
   ]
  },
  {
   "cell_type": "code",
   "execution_count": 31,
   "id": "885b109f",
   "metadata": {},
   "outputs": [
    {
     "data": {
      "text/html": [
       "<ol class=list-inline>\n",
       "\t<li>-1</li>\n",
       "\t<li>0</li>\n",
       "\t<li>1</li>\n",
       "\t<li>2</li>\n",
       "\t<li>2</li>\n",
       "\t<li>4</li>\n",
       "\t<li>3</li>\n",
       "</ol>\n"
      ],
      "text/latex": [
       "\\begin{enumerate*}\n",
       "\\item -1\n",
       "\\item 0\n",
       "\\item 1\n",
       "\\item 2\n",
       "\\item 2\n",
       "\\item 4\n",
       "\\item 3\n",
       "\\end{enumerate*}\n"
      ],
      "text/markdown": [
       "1. -1\n",
       "2. 0\n",
       "3. 1\n",
       "4. 2\n",
       "5. 2\n",
       "6. 4\n",
       "7. 3\n",
       "\n",
       "\n"
      ],
      "text/plain": [
       "[1] -1  0  1  2  2  4  3"
      ]
     },
     "metadata": {},
     "output_type": "display_data"
    }
   ],
   "source": [
    "b=my_data$Y\n",
    "b"
   ]
  },
  {
   "cell_type": "markdown",
   "id": "dbd297d4",
   "metadata": {
    "slideshow": {
     "slide_type": "slide"
    }
   },
   "source": [
    "We'll also need the transpose of the matrix, $A$. The function `t(A)` will do this for us."
   ]
  },
  {
   "cell_type": "code",
   "execution_count": 32,
   "id": "90c31909",
   "metadata": {
    "slideshow": {
     "slide_type": "-"
    }
   },
   "outputs": [
    {
     "data": {
      "text/html": [
       "<table>\n",
       "<thead><tr><th></th><th scope=col>1</th><th scope=col>2</th><th scope=col>3</th><th scope=col>4</th><th scope=col>5</th><th scope=col>6</th><th scope=col>7</th></tr></thead>\n",
       "<tbody>\n",
       "\t<tr><th scope=row>(Intercept)</th><td> 1</td><td> 1</td><td>1 </td><td>1 </td><td>1 </td><td>1 </td><td>1 </td></tr>\n",
       "\t<tr><th scope=row>X</th><td>-2</td><td>-1</td><td>0 </td><td>1 </td><td>2 </td><td>3 </td><td>4 </td></tr>\n",
       "</tbody>\n",
       "</table>\n"
      ],
      "text/latex": [
       "\\begin{tabular}{r|lllllll}\n",
       "  & 1 & 2 & 3 & 4 & 5 & 6 & 7\\\\\n",
       "\\hline\n",
       "\t(Intercept) &  1 &  1 & 1  & 1  & 1  & 1  & 1 \\\\\n",
       "\tX & -2 & -1 & 0  & 1  & 2  & 3  & 4 \\\\\n",
       "\\end{tabular}\n"
      ],
      "text/markdown": [
       "\n",
       "| <!--/--> | 1 | 2 | 3 | 4 | 5 | 6 | 7 |\n",
       "|---|---|---|---|---|---|---|---|\n",
       "| (Intercept) |  1 |  1 | 1  | 1  | 1  | 1  | 1  |\n",
       "| X | -2 | -1 | 0  | 1  | 2  | 3  | 4  |\n",
       "\n"
      ],
      "text/plain": [
       "            1  2  3 4 5 6 7\n",
       "(Intercept)  1  1 1 1 1 1 1\n",
       "X           -2 -1 0 1 2 3 4"
      ]
     },
     "metadata": {},
     "output_type": "display_data"
    }
   ],
   "source": [
    "t(A)"
   ]
  },
  {
   "cell_type": "markdown",
   "id": "5b270b06",
   "metadata": {
    "slideshow": {
     "slide_type": "slide"
    }
   },
   "source": [
    "Now we will solve the linear system\n",
    "$$A^\\top Ax = A^\\top b.$$\n",
    "For that we have to use matrix-matrix and matrix-vector multiplication. In `R`, this is done with the `%*%` operator. We'll also use the `solve()` function to solve the linear system."
   ]
  },
  {
   "cell_type": "code",
   "execution_count": 33,
   "id": "a222949b",
   "metadata": {
    "slideshow": {
     "slide_type": "-"
    }
   },
   "outputs": [
    {
     "data": {
      "text/html": [
       "<table>\n",
       "<tbody>\n",
       "\t<tr><th scope=row>(Intercept)</th><td>0.8214286</td></tr>\n",
       "\t<tr><th scope=row>X</th><td>0.7500000</td></tr>\n",
       "</tbody>\n",
       "</table>\n"
      ],
      "text/latex": [
       "\\begin{tabular}{r|l}\n",
       "\t(Intercept) & 0.8214286\\\\\n",
       "\tX & 0.7500000\\\\\n",
       "\\end{tabular}\n"
      ],
      "text/markdown": [
       "\n",
       "| (Intercept) | 0.8214286 |\n",
       "| X | 0.7500000 |\n",
       "\n"
      ],
      "text/plain": [
       "            [,1]     \n",
       "(Intercept) 0.8214286\n",
       "X           0.7500000"
      ]
     },
     "metadata": {},
     "output_type": "display_data"
    }
   ],
   "source": [
    "(u=solve(t(A) %*% A ,t(A)%*%b))"
   ]
  },
  {
   "cell_type": "markdown",
   "id": "1127729a",
   "metadata": {
    "slideshow": {
     "slide_type": "slide"
    }
   },
   "source": [
    "Now plot the result. "
   ]
  },
  {
   "cell_type": "code",
   "execution_count": 34,
   "id": "7ecbc082",
   "metadata": {
    "slideshow": {
     "slide_type": "-"
    }
   },
   "outputs": [
    {
     "data": {
      "image/png": "[encoded data removed]",
      "text/plain": [
       "plot without title"
      ]
     },
     "metadata": {},
     "output_type": "display_data"
    }
   ],
   "source": [
    "plot(my_data, cex=5)\n",
    "abline(u[1], u[2],col='blue')"
   ]
  },
  {
   "cell_type": "markdown",
   "id": "534ea194",
   "metadata": {
    "slideshow": {
     "slide_type": "slide"
    }
   },
   "source": [
    "Try changing the data, and see if you get expected results."
   ]
  }
 ],
 "metadata": {
  "celltoolbar": "Slideshow",
  "kernelspec": {
   "display_name": "R",
   "language": "R",
   "name": "ir"
  },
  "language_info": {
   "codemirror_mode": "r",
   "file_extension": ".r",
   "mimetype": "text/x-r-source",
   "name": "R",
   "pygments_lexer": "r",
   "version": "3.6.1"
  },
  "toc": {
   "base_numbering": 1,
   "nav_menu": {},
   "number_sections": true,
   "sideBar": true,
   "skip_h1_title": true,
   "title_cell": "Table of Contents",
   "title_sidebar": "Contents",
   "toc_cell": true,
   "toc_position": {},
   "toc_section_display": true,
   "toc_window_display": false
  },
  "varInspector": {
   "cols": {
    "lenName": 16,
    "lenType": 16,
    "lenVar": 40
   },
   "kernels_config": {
    "python": {
     "delete_cmd_postfix": "",
     "delete_cmd_prefix": "del ",
     "library": "var_list.py",
     "varRefreshCmd": "print(var_dic_list())"
    },
    "r": {
     "delete_cmd_postfix": ") ",
     "delete_cmd_prefix": "rm(",
     "library": "var_list.r",
     "varRefreshCmd": "cat(var_dic_list()) "
    }
   },
   "types_to_exclude": [
    "module",
    "function",
    "builtin_function_or_method",
    "instance",
    "_Feature"
   ],
   "window_display": false
  }
 },
 "nbformat": 4,
 "nbformat_minor": 5
}
